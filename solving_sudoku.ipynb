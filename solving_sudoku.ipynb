{
 "cells": [
  {
   "cell_type": "code",
   "execution_count": null,
   "metadata": {},
   "outputs": [],
   "source": [
    "from sudoku import Board, read_sudoku_from_file\n",
    "from sudoku_solver import solver\n",
    "\n",
    "filename = 'easy1.txt'\n",
    "\n",
    "# Step 1: Load and display the Sudoku puzzle\n",
    "print(f\"Loading and solving Sudoku from file: {filename}\")\n",
    "grid = read_sudoku_from_file(filename)\n",
    "board = Board(grid)\n",
    "\n",
    "# Display the initial board\n",
    "print(\"Initial Sudoku Board:\")\n",
    "print(board)\n",
    "\n",
    "# Step 2: Solve the Sudoku puzzle\n",
    "print(\"\\nSolving the Sudoku puzzle...\")\n",
    "solved = solver(board, T=1.25, decay=.99, max_stagnation=400)\n",
    "\n",
    "# Step 3: Display the result\n",
    "if solved:\n",
    "    print(\"Sudoku Solved Successfully!\")\n",
    "else:\n",
    "    print(\"Failed to solve the Sudoku.\")\n",
    "\n",
    "# Display the final board\n",
    "print(\"\\nFinal Sudoku Board:\")\n",
    "print(board)\n"
   ]
  }
 ],
 "metadata": {
  "kernelspec": {
   "display_name": "base",
   "language": "python",
   "name": "python3"
  },
  "language_info": {
   "codemirror_mode": {
    "name": "ipython",
    "version": 3
   },
   "file_extension": ".py",
   "mimetype": "text/x-python",
   "name": "python",
   "nbconvert_exporter": "python",
   "pygments_lexer": "ipython3",
   "version": "3.11.7"
  }
 },
 "nbformat": 4,
 "nbformat_minor": 2
}
